{
  "cells": [
    {
      "cell_type": "markdown",
      "metadata": {
        "id": "view-in-github",
        "colab_type": "text"
      },
      "source": [
        "<a href=\"https://colab.research.google.com/github/Kuzay3t/3D_Image_Reconstruction/blob/main/3d_Reconstruction.ipynb\" target=\"_parent\"><img src=\"https://colab.research.google.com/assets/colab-badge.svg\" alt=\"Open In Colab\"/></a>"
      ]
    },
    {
      "cell_type": "code",
      "execution_count": 30,
      "metadata": {
        "id": "snZn2ldyAxpK"
      },
      "outputs": [],
      "source": [
        "import pandas as pd\n",
        "import zipfile\n",
        "import os\n",
        "from google.colab import drive\n",
        "import zipfile\n",
        "import open3d as o3d\n",
        "import numpy as np\n",
        "import torch\n",
        "import torch.nn as nn\n",
        "import torch.optim as optim"
      ]
    },
    {
      "cell_type": "code",
      "source": [
        "drive.mount('/content/drive')"
      ],
      "metadata": {
        "colab": {
          "base_uri": "https://localhost:8080/"
        },
        "id": "cgFTOVmXsC-v",
        "outputId": "4ae363cb-708f-4af6-a8e9-117814591ff7"
      },
      "execution_count": null,
      "outputs": [
        {
          "output_type": "stream",
          "name": "stdout",
          "text": [
            "Drive already mounted at /content/drive; to attempt to forcibly remount, call drive.mount(\"/content/drive\", force_remount=True).\n"
          ]
        }
      ]
    },
    {
      "cell_type": "code",
      "execution_count": null,
      "metadata": {
        "id": "15Ipfnj48f8-",
        "colab": {
          "base_uri": "https://localhost:8080/"
        },
        "outputId": "a029fe84-fede-423b-a9de-9f021b9e0c24"
      },
      "outputs": [
        {
          "output_type": "stream",
          "name": "stdout",
          "text": [
            "['FINANCIAL LITERACY CERTIFICATE.pdf', 'KUZAYET BMC.pdf', 'GST 208 RECEIPT.pdf', 'VID-20240508-WA0014.mp4', 'BAGAI GLORY RESUME.pdf', 'BAGAI GLORY HEADSHOT.jpeg', '300LVL 2ND SEMESTER', 'project proposal template', 'RENUE DOCUMENT', 'Colab Notebooks', 'archive (1).zip', 'archive.zip']\n"
          ]
        }
      ],
      "source": [
        "print(os.listdir('/content/drive/My Drive'))"
      ]
    },
    {
      "cell_type": "code",
      "metadata": {
        "colab": {
          "base_uri": "https://localhost:8080/"
        },
        "id": "70f7c779",
        "outputId": "92931ff6-f77e-4a29-ad81-30eff277f277"
      },
      "source": [
        "print(os.listdir('/content/ModelNet10'))"
      ],
      "execution_count": null,
      "outputs": [
        {
          "output_type": "stream",
          "name": "stdout",
          "text": [
            "['ModelNet10', 'metadata_modelnet10.csv']\n"
          ]
        }
      ]
    },
    {
      "cell_type": "code",
      "execution_count": null,
      "metadata": {
        "id": "Oh6fybBIFEqv"
      },
      "outputs": [],
      "source": [
        "zip_path = '/content/drive/My Drive/archive.zip'\n"
      ]
    },
    {
      "cell_type": "code",
      "execution_count": null,
      "metadata": {
        "id": "tuz8xMBa9glU"
      },
      "outputs": [],
      "source": [
        "extract_path = '/content/ModelNet10'\n",
        "with zipfile.ZipFile(zip_path, 'r') as zip_ref:\n",
        "    zip_ref.extractall(extract_path)"
      ]
    },
    {
      "cell_type": "code",
      "metadata": {
        "id": "191f9008"
      },
      "source": [
        "# Set path to your unzipped dataset\n",
        "root_dir = '/content/ModelNet10/ModelNet10'\n",
        "category = 'chair'  # Example class; change as needed\n",
        "model_dir = os.path.join(root_dir, category, 'train')\n",
        "sample_file = [f for f in os.listdir(model_dir) if f.endswith('.off')][0]\n",
        "file_path = os.path.join(model_dir, sample_file)"
      ],
      "execution_count": null,
      "outputs": []
    },
    {
      "cell_type": "code",
      "source": [
        "# Function to load .off file as point cloud\n",
        "def load_off_as_pointcloud(filename, n_points=1024):\n",
        "    mesh = o3d.io.read_triangle_mesh(filename)\n",
        "    pcd = mesh.sample_points_uniformly(number_of_points=n_points)\n",
        "    return np.asarray(pcd.points)\n"
      ],
      "metadata": {
        "id": "NR1K_p59uCRr"
      },
      "execution_count": null,
      "outputs": []
    },
    {
      "cell_type": "code",
      "source": [
        "# Example: Load one point cloud\n",
        "clean_points = load_off_as_pointcloud(file_path)"
      ],
      "metadata": {
        "id": "wh4E6DezqwGx"
      },
      "execution_count": null,
      "outputs": []
    },
    {
      "cell_type": "code",
      "source": [
        "# adding noise to the dataset\n",
        "\n",
        "def add_noise(points, std=0.02):\n",
        "    noise = np.random.normal(scale=std, size=points.shape)\n",
        "    return points + noise\n",
        "\n",
        "noisy_points = add_noise(clean_points)"
      ],
      "metadata": {
        "id": "y5_aQS_7qz9y"
      },
      "execution_count": null,
      "outputs": []
    },
    {
      "cell_type": "code",
      "source": [
        "# denoising the image\n",
        "\n",
        "class DenoiseNet(nn.Module):\n",
        "    def __init__(self):\n",
        "        super().__init__()\n",
        "        self.mlp = nn.Sequential(\n",
        "            nn.Linear(3, 64),\n",
        "            nn.ReLU(),\n",
        "            nn.Linear(64, 64),\n",
        "            nn.ReLU(),\n",
        "            nn.Linear(64, 3)\n",
        "        )\n",
        "    def forward(self, x):\n",
        "        return self.mlp(x)\n",
        "\n",
        "model = DenoiseNet()"
      ],
      "metadata": {
        "id": "MYTOcSu6r70e"
      },
      "execution_count": 27,
      "outputs": []
    },
    {
      "cell_type": "code",
      "source": [
        "# preparing the data for training\n",
        "# Convert to torch tensors\n",
        "noisy_tensor = torch.tensor(noisy_points, dtype=torch.float32)\n",
        "clean_tensor = torch.tensor(clean_points, dtype=torch.float32)\n",
        "\n",
        "# For a toy example, batch size is the number of points\n",
        "dataset = [(noisy_tensor, clean_tensor)]"
      ],
      "metadata": {
        "id": "l8Zmw2g0r-Zx"
      },
      "execution_count": 28,
      "outputs": []
    },
    {
      "cell_type": "code",
      "source": [
        "optimizer = optim.Adam(model.parameters(), lr=1e-3)\n",
        "loss_fn = nn.MSELoss()"
      ],
      "metadata": {
        "id": "3eZ9C22wsBNF"
      },
      "execution_count": 31,
      "outputs": []
    },
    {
      "cell_type": "code",
      "source": [
        "# training the model\n",
        "\n",
        "model.train()\n",
        "for epoch in range(200):  # Toy loop, real training would use more data\n",
        "    optimizer.zero_grad()\n",
        "    pred = model(noisy_tensor)\n",
        "    loss = loss_fn(pred, clean_tensor)\n",
        "    loss.backward()\n",
        "    optimizer.step()\n",
        "    if (epoch+1) % 20 == 0:\n",
        "        print(f\"Epoch {epoch+1}, Loss: {loss.item():.6f}\")"
      ],
      "metadata": {
        "colab": {
          "base_uri": "https://localhost:8080/"
        },
        "id": "G5-e0bH8sV_r",
        "outputId": "f02f095b-8306-42d7-900d-198e45e19d9d"
      },
      "execution_count": 32,
      "outputs": [
        {
          "output_type": "stream",
          "name": "stdout",
          "text": [
            "Epoch 20, Loss: 51.974472\n",
            "Epoch 40, Loss: 11.516495\n",
            "Epoch 60, Loss: 2.132057\n",
            "Epoch 80, Loss: 0.613787\n",
            "Epoch 100, Loss: 0.312459\n",
            "Epoch 120, Loss: 0.187423\n",
            "Epoch 140, Loss: 0.118696\n",
            "Epoch 160, Loss: 0.083146\n",
            "Epoch 180, Loss: 0.064508\n",
            "Epoch 200, Loss: 0.053015\n"
          ]
        }
      ]
    },
    {
      "cell_type": "code",
      "source": [
        "# Predict denoised points\n",
        "model.eval()\n",
        "with torch.no_grad():\n",
        "    denoised = model(noisy_tensor).numpy()"
      ],
      "metadata": {
        "id": "i-o2Pye7shSS"
      },
      "execution_count": 33,
      "outputs": []
    },
    {
      "cell_type": "code",
      "source": [
        "# Visualize using open3d\n",
        "pcd_noisy = o3d.geometry.PointCloud()\n",
        "pcd_noisy.points = o3d.utility.Vector3dVector(noisy_points)\n",
        "pcd_denoised = o3d.geometry.PointCloud()\n",
        "pcd_denoised.points = o3d.utility.Vector3dVector(denoised)"
      ],
      "metadata": {
        "id": "kBaFrbrCsmIV"
      },
      "execution_count": 34,
      "outputs": []
    },
    {
      "cell_type": "code",
      "source": [
        "o3d.visualization.draw_geometries([pcd_noisy], window_name='Noisy')\n",
        "o3d.visualization.draw_geometries([pcd_denoised], window_name='Denoised')"
      ],
      "metadata": {
        "colab": {
          "base_uri": "https://localhost:8080/"
        },
        "id": "ZTkx3xBaspTH",
        "outputId": "d0ef8ae2-6dc5-4f95-a541-6158e0a2d308"
      },
      "execution_count": 35,
      "outputs": [
        {
          "output_type": "stream",
          "name": "stdout",
          "text": [
            "\u001b[1;33m[Open3D WARNING] GLFW Error: Failed to detect any supported platform\u001b[0;m\n",
            "\u001b[1;33m[Open3D WARNING] GLFW initialized for headless rendering.\u001b[0;m\n",
            "\u001b[1;33m[Open3D WARNING] GLFW Error: OSMesa: Library not found\u001b[0;m\n",
            "\u001b[1;33m[Open3D WARNING] Failed to create window\u001b[0;m\n",
            "\u001b[1;33m[Open3D WARNING] [DrawGeometries] Failed creating OpenGL window.\u001b[0;m\n",
            "\u001b[1;33m[Open3D WARNING] GLFW initialized for headless rendering.\u001b[0;m\n",
            "\u001b[1;33m[Open3D WARNING] GLFW Error: OSMesa: Library not found\u001b[0;m\n",
            "\u001b[1;33m[Open3D WARNING] Failed to create window\u001b[0;m\n",
            "\u001b[1;33m[Open3D WARNING] [DrawGeometries] Failed creating OpenGL window.\u001b[0;m\n"
          ]
        }
      ]
    },
    {
      "cell_type": "code",
      "source": [],
      "metadata": {
        "id": "n4N8qiUysr2_"
      },
      "execution_count": null,
      "outputs": []
    }
  ],
  "metadata": {
    "colab": {
      "provenance": [],
      "authorship_tag": "ABX9TyP7oZZgtB/2KGt3NhD+0fkE",
      "include_colab_link": true
    },
    "kernelspec": {
      "display_name": "Python 3",
      "name": "python3"
    },
    "language_info": {
      "name": "python"
    }
  },
  "nbformat": 4,
  "nbformat_minor": 0
}