{
  "cells": [
    {
      "cell_type": "markdown",
      "metadata": {
        "id": "view-in-github",
        "colab_type": "text"
      },
      "source": [
        "<a href=\"https://colab.research.google.com/github/Kuzay3t/3D_Image_Reconstruction/blob/main/3d_Reconstruction_mscp.ipynb\" target=\"_parent\"><img src=\"https://colab.research.google.com/assets/colab-badge.svg\" alt=\"Open In Colab\"/></a>"
      ]
    },
    {
      "cell_type": "code",
      "source": [
        "!pip install open3d"
      ],
      "metadata": {
        "colab": {
          "base_uri": "https://localhost:8080/"
        },
        "id": "bZNhFJ8WYpQC",
        "outputId": "4c09a326-3635-4a50-cf3f-0b4ce644b998"
      },
      "execution_count": 61,
      "outputs": [
        {
          "output_type": "stream",
          "name": "stdout",
          "text": [
            "Requirement already satisfied: open3d in /usr/local/lib/python3.11/dist-packages (0.19.0)\n",
            "Requirement already satisfied: numpy>=1.18.0 in /usr/local/lib/python3.11/dist-packages (from open3d) (2.0.2)\n",
            "Requirement already satisfied: dash>=2.6.0 in /usr/local/lib/python3.11/dist-packages (from open3d) (3.1.1)\n",
            "Requirement already satisfied: werkzeug>=3.0.0 in /usr/local/lib/python3.11/dist-packages (from open3d) (3.1.3)\n",
            "Requirement already satisfied: flask>=3.0.0 in /usr/local/lib/python3.11/dist-packages (from open3d) (3.1.1)\n",
            "Requirement already satisfied: nbformat>=5.7.0 in /usr/local/lib/python3.11/dist-packages (from open3d) (5.10.4)\n",
            "Requirement already satisfied: configargparse in /usr/local/lib/python3.11/dist-packages (from open3d) (1.7.1)\n",
            "Requirement already satisfied: ipywidgets>=8.0.4 in /usr/local/lib/python3.11/dist-packages (from open3d) (8.1.7)\n",
            "Requirement already satisfied: addict in /usr/local/lib/python3.11/dist-packages (from open3d) (2.4.0)\n",
            "Requirement already satisfied: pillow>=9.3.0 in /usr/local/lib/python3.11/dist-packages (from open3d) (11.3.0)\n",
            "Requirement already satisfied: matplotlib>=3 in /usr/local/lib/python3.11/dist-packages (from open3d) (3.10.0)\n",
            "Requirement already satisfied: pandas>=1.0 in /usr/local/lib/python3.11/dist-packages (from open3d) (2.2.2)\n",
            "Requirement already satisfied: pyyaml>=5.4.1 in /usr/local/lib/python3.11/dist-packages (from open3d) (6.0.2)\n",
            "Requirement already satisfied: scikit-learn>=0.21 in /usr/local/lib/python3.11/dist-packages (from open3d) (1.6.1)\n",
            "Requirement already satisfied: tqdm in /usr/local/lib/python3.11/dist-packages (from open3d) (4.67.1)\n",
            "Requirement already satisfied: pyquaternion in /usr/local/lib/python3.11/dist-packages (from open3d) (0.9.9)\n",
            "Requirement already satisfied: plotly>=5.0.0 in /usr/local/lib/python3.11/dist-packages (from dash>=2.6.0->open3d) (5.24.1)\n",
            "Requirement already satisfied: importlib-metadata in /usr/local/lib/python3.11/dist-packages (from dash>=2.6.0->open3d) (8.7.0)\n",
            "Requirement already satisfied: typing-extensions>=4.1.1 in /usr/local/lib/python3.11/dist-packages (from dash>=2.6.0->open3d) (4.14.1)\n",
            "Requirement already satisfied: requests in /usr/local/lib/python3.11/dist-packages (from dash>=2.6.0->open3d) (2.32.3)\n",
            "Requirement already satisfied: retrying in /usr/local/lib/python3.11/dist-packages (from dash>=2.6.0->open3d) (1.4.1)\n",
            "Requirement already satisfied: nest-asyncio in /usr/local/lib/python3.11/dist-packages (from dash>=2.6.0->open3d) (1.6.0)\n",
            "Requirement already satisfied: setuptools in /usr/local/lib/python3.11/dist-packages (from dash>=2.6.0->open3d) (75.2.0)\n",
            "Requirement already satisfied: blinker>=1.9.0 in /usr/local/lib/python3.11/dist-packages (from flask>=3.0.0->open3d) (1.9.0)\n",
            "Requirement already satisfied: click>=8.1.3 in /usr/local/lib/python3.11/dist-packages (from flask>=3.0.0->open3d) (8.2.1)\n",
            "Requirement already satisfied: itsdangerous>=2.2.0 in /usr/local/lib/python3.11/dist-packages (from flask>=3.0.0->open3d) (2.2.0)\n",
            "Requirement already satisfied: jinja2>=3.1.2 in /usr/local/lib/python3.11/dist-packages (from flask>=3.0.0->open3d) (3.1.6)\n",
            "Requirement already satisfied: markupsafe>=2.1.1 in /usr/local/lib/python3.11/dist-packages (from flask>=3.0.0->open3d) (3.0.2)\n",
            "Requirement already satisfied: comm>=0.1.3 in /usr/local/lib/python3.11/dist-packages (from ipywidgets>=8.0.4->open3d) (0.2.3)\n",
            "Requirement already satisfied: ipython>=6.1.0 in /usr/local/lib/python3.11/dist-packages (from ipywidgets>=8.0.4->open3d) (7.34.0)\n",
            "Requirement already satisfied: traitlets>=4.3.1 in /usr/local/lib/python3.11/dist-packages (from ipywidgets>=8.0.4->open3d) (5.7.1)\n",
            "Requirement already satisfied: widgetsnbextension~=4.0.14 in /usr/local/lib/python3.11/dist-packages (from ipywidgets>=8.0.4->open3d) (4.0.14)\n",
            "Requirement already satisfied: jupyterlab_widgets~=3.0.15 in /usr/local/lib/python3.11/dist-packages (from ipywidgets>=8.0.4->open3d) (3.0.15)\n",
            "Requirement already satisfied: contourpy>=1.0.1 in /usr/local/lib/python3.11/dist-packages (from matplotlib>=3->open3d) (1.3.2)\n",
            "Requirement already satisfied: cycler>=0.10 in /usr/local/lib/python3.11/dist-packages (from matplotlib>=3->open3d) (0.12.1)\n",
            "Requirement already satisfied: fonttools>=4.22.0 in /usr/local/lib/python3.11/dist-packages (from matplotlib>=3->open3d) (4.59.0)\n",
            "Requirement already satisfied: kiwisolver>=1.3.1 in /usr/local/lib/python3.11/dist-packages (from matplotlib>=3->open3d) (1.4.8)\n",
            "Requirement already satisfied: packaging>=20.0 in /usr/local/lib/python3.11/dist-packages (from matplotlib>=3->open3d) (25.0)\n",
            "Requirement already satisfied: pyparsing>=2.3.1 in /usr/local/lib/python3.11/dist-packages (from matplotlib>=3->open3d) (3.2.3)\n",
            "Requirement already satisfied: python-dateutil>=2.7 in /usr/local/lib/python3.11/dist-packages (from matplotlib>=3->open3d) (2.9.0.post0)\n",
            "Requirement already satisfied: fastjsonschema>=2.15 in /usr/local/lib/python3.11/dist-packages (from nbformat>=5.7.0->open3d) (2.21.1)\n",
            "Requirement already satisfied: jsonschema>=2.6 in /usr/local/lib/python3.11/dist-packages (from nbformat>=5.7.0->open3d) (4.25.0)\n",
            "Requirement already satisfied: jupyter-core!=5.0.*,>=4.12 in /usr/local/lib/python3.11/dist-packages (from nbformat>=5.7.0->open3d) (5.8.1)\n",
            "Requirement already satisfied: pytz>=2020.1 in /usr/local/lib/python3.11/dist-packages (from pandas>=1.0->open3d) (2025.2)\n",
            "Requirement already satisfied: tzdata>=2022.7 in /usr/local/lib/python3.11/dist-packages (from pandas>=1.0->open3d) (2025.2)\n",
            "Requirement already satisfied: scipy>=1.6.0 in /usr/local/lib/python3.11/dist-packages (from scikit-learn>=0.21->open3d) (1.16.0)\n",
            "Requirement already satisfied: joblib>=1.2.0 in /usr/local/lib/python3.11/dist-packages (from scikit-learn>=0.21->open3d) (1.5.1)\n",
            "Requirement already satisfied: threadpoolctl>=3.1.0 in /usr/local/lib/python3.11/dist-packages (from scikit-learn>=0.21->open3d) (3.6.0)\n",
            "Requirement already satisfied: jedi>=0.16 in /usr/local/lib/python3.11/dist-packages (from ipython>=6.1.0->ipywidgets>=8.0.4->open3d) (0.19.2)\n",
            "Requirement already satisfied: decorator in /usr/local/lib/python3.11/dist-packages (from ipython>=6.1.0->ipywidgets>=8.0.4->open3d) (4.4.2)\n",
            "Requirement already satisfied: pickleshare in /usr/local/lib/python3.11/dist-packages (from ipython>=6.1.0->ipywidgets>=8.0.4->open3d) (0.7.5)\n",
            "Requirement already satisfied: prompt-toolkit!=3.0.0,!=3.0.1,<3.1.0,>=2.0.0 in /usr/local/lib/python3.11/dist-packages (from ipython>=6.1.0->ipywidgets>=8.0.4->open3d) (3.0.51)\n",
            "Requirement already satisfied: pygments in /usr/local/lib/python3.11/dist-packages (from ipython>=6.1.0->ipywidgets>=8.0.4->open3d) (2.19.2)\n",
            "Requirement already satisfied: backcall in /usr/local/lib/python3.11/dist-packages (from ipython>=6.1.0->ipywidgets>=8.0.4->open3d) (0.2.0)\n",
            "Requirement already satisfied: matplotlib-inline in /usr/local/lib/python3.11/dist-packages (from ipython>=6.1.0->ipywidgets>=8.0.4->open3d) (0.1.7)\n",
            "Requirement already satisfied: pexpect>4.3 in /usr/local/lib/python3.11/dist-packages (from ipython>=6.1.0->ipywidgets>=8.0.4->open3d) (4.9.0)\n",
            "Requirement already satisfied: attrs>=22.2.0 in /usr/local/lib/python3.11/dist-packages (from jsonschema>=2.6->nbformat>=5.7.0->open3d) (25.3.0)\n",
            "Requirement already satisfied: jsonschema-specifications>=2023.03.6 in /usr/local/lib/python3.11/dist-packages (from jsonschema>=2.6->nbformat>=5.7.0->open3d) (2025.4.1)\n",
            "Requirement already satisfied: referencing>=0.28.4 in /usr/local/lib/python3.11/dist-packages (from jsonschema>=2.6->nbformat>=5.7.0->open3d) (0.36.2)\n",
            "Requirement already satisfied: rpds-py>=0.7.1 in /usr/local/lib/python3.11/dist-packages (from jsonschema>=2.6->nbformat>=5.7.0->open3d) (0.26.0)\n",
            "Requirement already satisfied: platformdirs>=2.5 in /usr/local/lib/python3.11/dist-packages (from jupyter-core!=5.0.*,>=4.12->nbformat>=5.7.0->open3d) (4.3.8)\n",
            "Requirement already satisfied: tenacity>=6.2.0 in /usr/local/lib/python3.11/dist-packages (from plotly>=5.0.0->dash>=2.6.0->open3d) (8.5.0)\n",
            "Requirement already satisfied: six>=1.5 in /usr/local/lib/python3.11/dist-packages (from python-dateutil>=2.7->matplotlib>=3->open3d) (1.17.0)\n",
            "Requirement already satisfied: zipp>=3.20 in /usr/local/lib/python3.11/dist-packages (from importlib-metadata->dash>=2.6.0->open3d) (3.23.0)\n",
            "Requirement already satisfied: charset-normalizer<4,>=2 in /usr/local/lib/python3.11/dist-packages (from requests->dash>=2.6.0->open3d) (3.4.2)\n",
            "Requirement already satisfied: idna<4,>=2.5 in /usr/local/lib/python3.11/dist-packages (from requests->dash>=2.6.0->open3d) (3.10)\n",
            "Requirement already satisfied: urllib3<3,>=1.21.1 in /usr/local/lib/python3.11/dist-packages (from requests->dash>=2.6.0->open3d) (2.5.0)\n",
            "Requirement already satisfied: certifi>=2017.4.17 in /usr/local/lib/python3.11/dist-packages (from requests->dash>=2.6.0->open3d) (2025.7.14)\n",
            "Requirement already satisfied: parso<0.9.0,>=0.8.4 in /usr/local/lib/python3.11/dist-packages (from jedi>=0.16->ipython>=6.1.0->ipywidgets>=8.0.4->open3d) (0.8.4)\n",
            "Requirement already satisfied: ptyprocess>=0.5 in /usr/local/lib/python3.11/dist-packages (from pexpect>4.3->ipython>=6.1.0->ipywidgets>=8.0.4->open3d) (0.7.0)\n",
            "Requirement already satisfied: wcwidth in /usr/local/lib/python3.11/dist-packages (from prompt-toolkit!=3.0.0,!=3.0.1,<3.1.0,>=2.0.0->ipython>=6.1.0->ipywidgets>=8.0.4->open3d) (0.2.13)\n"
          ]
        }
      ]
    },
    {
      "cell_type": "code",
      "execution_count": 62,
      "metadata": {
        "id": "snZn2ldyAxpK"
      },
      "outputs": [],
      "source": [
        "import pandas as pd\n",
        "import zipfile\n",
        "import os\n",
        "from google.colab import drive\n",
        "import zipfile\n",
        "import open3d as o3d\n",
        "import numpy as np\n",
        "import torch\n",
        "import torch.nn as nn\n",
        "import torch.optim as optim\n",
        "from mpl_toolkits.mplot3d import Axes3D\n",
        "import matplotlib.pyplot as plt\n"
      ]
    },
    {
      "cell_type": "code",
      "source": [
        "drive.mount('/content/drive', force_remount=True)"
      ],
      "metadata": {
        "colab": {
          "base_uri": "https://localhost:8080/"
        },
        "id": "cgFTOVmXsC-v",
        "outputId": "cfd4319e-0f3e-48c9-af3d-f82264932031"
      },
      "execution_count": 63,
      "outputs": [
        {
          "output_type": "stream",
          "name": "stdout",
          "text": [
            "Mounted at /content/drive\n"
          ]
        }
      ]
    },
    {
      "cell_type": "code",
      "execution_count": 64,
      "metadata": {
        "id": "15Ipfnj48f8-",
        "colab": {
          "base_uri": "https://localhost:8080/"
        },
        "outputId": "44f3ed7d-b773-44ce-a57a-bc84b2c6e6e4"
      },
      "outputs": [
        {
          "output_type": "stream",
          "name": "stdout",
          "text": [
            "['FINANCIAL LITERACY CERTIFICATE.pdf', 'KUZAYET BMC.pdf', 'GST 208 RECEIPT.pdf', 'VID-20240508-WA0014.mp4', 'BAGAI GLORY RESUME.pdf', 'BAGAI GLORY HEADSHOT.jpeg', '300LVL 2ND SEMESTER', 'project proposal template', 'RENUE DOCUMENT', 'Colab Notebooks', 'archive (1).zip', 'archive.zip']\n"
          ]
        }
      ],
      "source": [
        "print(os.listdir('/content/drive/My Drive'))"
      ]
    },
    {
      "cell_type": "code",
      "execution_count": 65,
      "metadata": {
        "id": "Oh6fybBIFEqv"
      },
      "outputs": [],
      "source": [
        "zip_path = '/content/drive/My Drive/archive.zip'\n"
      ]
    },
    {
      "cell_type": "code",
      "execution_count": 66,
      "metadata": {
        "id": "tuz8xMBa9glU"
      },
      "outputs": [],
      "source": [
        "extract_path = '/content/ModelNet10'\n",
        "with zipfile.ZipFile(zip_path, 'r') as zip_ref:\n",
        "    zip_ref.extractall(extract_path)"
      ]
    },
    {
      "cell_type": "code",
      "metadata": {
        "colab": {
          "base_uri": "https://localhost:8080/"
        },
        "id": "70f7c779",
        "outputId": "243729b7-afc2-4a43-9326-ae08e68f32e0"
      },
      "source": [
        "print(os.listdir('/content/ModelNet10'))"
      ],
      "execution_count": 67,
      "outputs": [
        {
          "output_type": "stream",
          "name": "stdout",
          "text": [
            "['metadata_modelnet10.csv', 'ModelNet10']\n"
          ]
        }
      ]
    },
    {
      "cell_type": "markdown",
      "source": [
        "**Loading Files**"
      ],
      "metadata": {
        "id": "T6g6HhmBVVjY"
      }
    },
    {
      "cell_type": "code",
      "source": [
        "def read_off(file_path):\n",
        "    \"\"\"\n",
        "    Reads a .off file and returns the vertices and faces as numpy arrays.\n",
        "    \"\"\"\n",
        "    with open(file_path, 'r') as f:\n",
        "        if 'OFF' != f.readline().strip():\n",
        "            raise ValueError('Not a valid OFF file')\n",
        "\n",
        "        # Read counts\n",
        "        n_verts, n_faces, _ = map(int, f.readline().strip().split())\n",
        "        vertices = []\n",
        "        faces = []\n",
        "\n",
        "        # Read vertices\n",
        "        for _ in range(n_verts):\n",
        "            vertex = list(map(float, f.readline().strip().split()))\n",
        "            vertices.append(vertex)\n",
        "\n",
        "        # Read faces\n",
        "        for _ in range(n_faces):\n",
        "            parts = list(map(int, f.readline().strip().split()))\n",
        "            faces.append(parts[1:])  # skip the first value (face length)\n",
        "\n",
        "    return np.array(vertices), np.array(faces)\n"
      ],
      "metadata": {
        "id": "g-aAgLQ0VYpM"
      },
      "execution_count": 68,
      "outputs": []
    },
    {
      "cell_type": "markdown",
      "source": [
        "**Visualising Models**"
      ],
      "metadata": {
        "id": "5dyfuh62VfxJ"
      }
    },
    {
      "cell_type": "code",
      "source": [
        "\n",
        "def visualize_3d(vertices):\n",
        "    \"\"\"\n",
        "    Visualize 3D points using matplotlib.\n",
        "    \"\"\"\n",
        "    fig = plt.figure()\n",
        "    ax = fig.add_subplot(111, projection='3d')\n",
        "    ax.scatter(vertices[:, 0], vertices[:, 1], vertices[:, 2])\n",
        "    plt.title(\"3D Point Cloud\")\n",
        "    plt.show()\n"
      ],
      "metadata": {
        "id": "sXTUonRCVa8g"
      },
      "execution_count": 69,
      "outputs": []
    },
    {
      "cell_type": "code",
      "source": [
        "# normalizing vertices\n",
        "\n",
        "def normalize(vertices):\n",
        "    \"\"\"\n",
        "    Normalize point cloud to zero mean and unit scale.\n",
        "    \"\"\"\n",
        "    centroid = np.mean(vertices, axis=0)\n",
        "    vertices -= centroid\n",
        "    scale = np.max(np.linalg.norm(vertices, axis=1))\n",
        "    vertices /= scale\n",
        "    return vertices\n"
      ],
      "metadata": {
        "id": "B2_YUJPcVa5u"
      },
      "execution_count": 70,
      "outputs": []
    },
    {
      "cell_type": "code",
      "source": [
        "# adding noise\n",
        "\n",
        "def add_noise(vertices, noise_strength=0.02):\n",
        "    \"\"\"\n",
        "    Adds Gaussian noise to vertices.\n",
        "    \"\"\"\n",
        "    noise = np.random.normal(0, noise_strength, vertices.shape)\n",
        "    return vertices + noise\n"
      ],
      "metadata": {
        "id": "A8Ch1BTsVa21"
      },
      "execution_count": 71,
      "outputs": []
    },
    {
      "cell_type": "code",
      "source": [
        "# converting to voxels\n",
        "\n",
        "def pointcloud_to_voxel(points, grid_size=32):\n",
        "    \"\"\"\n",
        "    Converts point cloud to voxel grid.\n",
        "    \"\"\"\n",
        "    voxel_grid = np.zeros((grid_size, grid_size, grid_size))\n",
        "\n",
        "    # Normalize to [0, grid_size - 1]\n",
        "    scaled = (points + 1) * (grid_size - 1) / 2\n",
        "    indices = scaled.astype(int)\n",
        "\n",
        "    for x, y, z in indices:\n",
        "        if 0 <= x < grid_size and 0 <= y < grid_size and 0 <= z < grid_size:\n",
        "            voxel_grid[x, y, z] = 1.0\n",
        "\n",
        "    return voxel_grid\n"
      ],
      "metadata": {
        "id": "Cv0PAhUiVaz8"
      },
      "execution_count": 72,
      "outputs": []
    },
    {
      "cell_type": "code",
      "source": [
        "# building the CNN Architecture\n",
        "\n",
        "import torch\n",
        "import torch.nn as nn\n",
        "import torch.nn.functional as F\n",
        "\n",
        "class DenoisingCNN(nn.Module):\n",
        "    def __init__(self):\n",
        "        super(DenoisingCNN, self).__init__()\n",
        "        self.encoder = nn.Sequential(\n",
        "            nn.Conv3d(1, 32, kernel_size=3, padding=1),\n",
        "            nn.ReLU(),\n",
        "            nn.MaxPool3d(2),\n",
        "            nn.Conv3d(32, 64, kernel_size=3, padding=1),\n",
        "            nn.ReLU(),\n",
        "            nn.MaxPool3d(2)\n",
        "        )\n",
        "        self.decoder = nn.Sequential(\n",
        "            nn.Upsample(scale_factor=2),\n",
        "            nn.Conv3d(64, 32, kernel_size=3, padding=1),\n",
        "            nn.ReLU(),\n",
        "            nn.Upsample(scale_factor=2),\n",
        "            nn.Conv3d(32, 1, kernel_size=3, padding=1),\n",
        "            nn.Sigmoid()\n",
        "        )\n",
        "\n",
        "    def forward(self, x):\n",
        "        x = self.encoder(x)\n",
        "        x = self.decoder(x)\n",
        "        return x\n"
      ],
      "metadata": {
        "id": "6qzDYRc2VaxU"
      },
      "execution_count": 73,
      "outputs": []
    },
    {
      "cell_type": "code",
      "source": [
        "# preparing the dataset\n",
        "\n",
        "import torch.utils.data as data\n",
        "from torch.utils.data import random_split\n",
        "\n",
        "class VoxelDataset(data.Dataset):\n",
        "    def __init__(self, clean, noisy):\n",
        "        self.clean = torch.tensor(clean, dtype=torch.float32)\n",
        "        self.noisy = torch.tensor(noisy, dtype=torch.float32)\n",
        "\n",
        "    def __len__(self):\n",
        "        return len(self.clean)\n",
        "\n",
        "    def __getitem__(self, idx):\n",
        "        return self.noisy[idx], self.clean[idx]\n",
        "\n",
        "# Placeholder tensors for demonstration. Replace with actual data loading.\n",
        "# These dimensions are just examples, adjust based on your actual voxel data shape (batch_size, channels, depth, height, width)\n",
        "# Using torch.rand to ensure values are between 0 and 1 for BCELoss target\n",
        "X_clean = torch.rand(20, 1, 32, 32, 32)  # Example: 20 samples of 32x32x32 voxels with 1 channel\n",
        "X_noisy = torch.randn(20, 1, 32, 32, 32) # Example: 20 samples of 32x32x32 voxels with 1 channel\n",
        "\n",
        "full_dataset = VoxelDataset(X_clean, X_noisy)\n",
        "\n",
        "# Split dataset into training and testing sets\n",
        "train_size = int(0.8 * len(full_dataset))\n",
        "test_size = len(full_dataset) - train_size\n",
        "train_dataset, test_dataset = random_split(full_dataset, [train_size, test_size])\n",
        "\n",
        "loader = data.DataLoader(train_dataset, batch_size=8, shuffle=True)\n",
        "test_loader = data.DataLoader(test_dataset, batch_size=8, shuffle=False)"
      ],
      "metadata": {
        "colab": {
          "base_uri": "https://localhost:8080/"
        },
        "id": "3YxZ5JbJVavC",
        "outputId": "378982f7-6e4c-42ed-f90e-af709657f2e1"
      },
      "execution_count": 80,
      "outputs": [
        {
          "output_type": "stream",
          "name": "stderr",
          "text": [
            "/tmp/ipython-input-80-254069255.py:8: UserWarning: To copy construct from a tensor, it is recommended to use sourceTensor.clone().detach() or sourceTensor.clone().detach().requires_grad_(True), rather than torch.tensor(sourceTensor).\n",
            "  self.clean = torch.tensor(clean, dtype=torch.float32)\n",
            "/tmp/ipython-input-80-254069255.py:9: UserWarning: To copy construct from a tensor, it is recommended to use sourceTensor.clone().detach() or sourceTensor.clone().detach().requires_grad_(True), rather than torch.tensor(sourceTensor).\n",
            "  self.noisy = torch.tensor(noisy, dtype=torch.float32)\n"
          ]
        }
      ]
    },
    {
      "cell_type": "code",
      "source": [
        "device = torch.device('cuda' if torch.cuda.is_available() else 'cpu')\n",
        "model = DenoisingCNN().to(device)\n",
        "optimizer = torch.optim.Adam(model.parameters(), lr=1e-3)\n",
        "criterion = nn.BCELoss()\n",
        "\n",
        "# Training loop\n",
        "for epoch in range(30):\n",
        "    model.train()\n",
        "    epoch_loss = 0.0\n",
        "    for noisy_batch, clean_batch in loader:\n",
        "        noisy_batch = noisy_batch.to(device)\n",
        "        clean_batch = clean_batch.to(device)\n",
        "\n",
        "        output = model(noisy_batch)\n",
        "        loss = criterion(output, clean_batch)\n",
        "\n",
        "        optimizer.zero_grad()\n",
        "        loss.backward()\n",
        "        optimizer.step()\n",
        "\n",
        "        epoch_loss += loss.item()\n",
        "\n",
        "    print(f\"Epoch {epoch+1}, Loss: {epoch_loss:.4f}\")"
      ],
      "metadata": {
        "colab": {
          "base_uri": "https://localhost:8080/"
        },
        "id": "zCEm8gRwVasB",
        "outputId": "853d9593-9b75-420b-bc31-104219bb6cd9"
      },
      "execution_count": 75,
      "outputs": [
        {
          "output_type": "stream",
          "name": "stdout",
          "text": [
            "Epoch 1, Loss: 1.6017\n",
            "Epoch 2, Loss: 1.3966\n",
            "Epoch 3, Loss: 1.3871\n",
            "Epoch 4, Loss: 1.3864\n",
            "Epoch 5, Loss: 1.3863\n",
            "Epoch 6, Loss: 1.3863\n",
            "Epoch 7, Loss: 1.3863\n",
            "Epoch 8, Loss: 1.3863\n",
            "Epoch 9, Loss: 1.3863\n",
            "Epoch 10, Loss: 1.3863\n",
            "Epoch 11, Loss: 1.3863\n",
            "Epoch 12, Loss: 1.3863\n",
            "Epoch 13, Loss: 1.3863\n",
            "Epoch 14, Loss: 1.3863\n",
            "Epoch 15, Loss: 1.3863\n",
            "Epoch 16, Loss: 1.3863\n",
            "Epoch 17, Loss: 1.3863\n",
            "Epoch 18, Loss: 1.3863\n",
            "Epoch 19, Loss: 1.3863\n",
            "Epoch 20, Loss: 1.3863\n",
            "Epoch 21, Loss: 1.3863\n",
            "Epoch 22, Loss: 1.3863\n",
            "Epoch 23, Loss: 1.3863\n",
            "Epoch 24, Loss: 1.3863\n",
            "Epoch 25, Loss: 1.3863\n",
            "Epoch 26, Loss: 1.3863\n",
            "Epoch 27, Loss: 1.3863\n",
            "Epoch 28, Loss: 1.3863\n",
            "Epoch 29, Loss: 1.3863\n",
            "Epoch 30, Loss: 1.3863\n"
          ]
        }
      ]
    },
    {
      "cell_type": "code",
      "source": [
        "import matplotlib.pyplot as plt\n",
        "\n",
        "model.eval()\n",
        "with torch.no_grad():\n",
        "    sample_input = X_noisy[0:1]\n",
        "    sample_input_tensor = sample_input.clone().detach().to(device)\n",
        "    denoised = model(sample_input_tensor).cpu().numpy()[0, 0]\n",
        "\n",
        "# Visualize middle slice\n",
        "plt.imshow(denoised[:, :, 16], cmap='gray')\n",
        "plt.title(\"Denoised Output Slice\")\n",
        "plt.show()"
      ],
      "metadata": {
        "colab": {
          "base_uri": "https://localhost:8080/",
          "height": 452
        },
        "id": "c7sYogK7VapH",
        "outputId": "28655ed4-1411-4739-9e7a-eafdaf1eff1c"
      },
      "execution_count": 79,
      "outputs": [
        {
          "output_type": "display_data",
          "data": {
            "text/plain": [
              "<Figure size 640x480 with 1 Axes>"
            ],
            "image/png": "[encoded data removed]"
          },
          "metadata": {}
        }
      ]
    },
    {
      "cell_type": "code",
      "source": [
        "# evaluate model\n",
        "\n",
        "def evaluate_model(model, test_loader, device):\n",
        "    \"\"\"\n",
        "    Evaluates the model on test data, computes binary accuracy, and visualizes results.\n",
        "    \"\"\"\n",
        "    model.eval()\n",
        "    total_accuracy = 0\n",
        "    num_samples = 0\n",
        "\n",
        "    with torch.no_grad():\n",
        "        for noisy_batch, clean_batch in test_loader:\n",
        "            noisy_batch = noisy_batch.to(device)\n",
        "            clean_batch = clean_batch.to(device)\n",
        "\n",
        "            # Predict\n",
        "            output = model(noisy_batch)\n",
        "            preds = (output > 0.5).float()\n",
        "\n",
        "            # Binary accuracy\n",
        "            correct = (preds == clean_batch).float().sum()\n",
        "            total_voxels = torch.numel(clean_batch)\n",
        "            total_accuracy += correct\n",
        "            num_samples += 1\n",
        "\n",
        "            # Visualize middle slice from first sample\n",
        "            if num_samples == 1:\n",
        "                slice_idx = clean_batch.shape[4] // 2\n",
        "                plt.figure(figsize=(12, 4))\n",
        "                plt.subplot(131)\n",
        "                plt.imshow(noisy_batch[0, 0, :, :, slice_idx].cpu(), cmap='gray')\n",
        "                plt.title(\"Noisy Input\")\n",
        "\n",
        "                plt.subplot(132)\n",
        "                plt.imshow(preds[0, 0, :, :, slice_idx].cpu(), cmap='gray')\n",
        "                plt.title(\"Denoised Prediction\")\n",
        "\n",
        "                plt.subplot(133)\n",
        "                plt.imshow(clean_batch[0, 0, :, :, slice_idx].cpu(), cmap='gray')\n",
        "                plt.title(\"Ground Truth\")\n",
        "                plt.show()\n",
        "\n",
        "    avg_accuracy = total_accuracy / (num_samples * total_voxels)\n",
        "    print(f\"Binary Accuracy: {avg_accuracy.item():.4f}\")\n"
      ],
      "metadata": {
        "id": "hk8j9erzVamY"
      },
      "execution_count": 77,
      "outputs": []
    },
    {
      "cell_type": "code",
      "source": [
        "evaluate_model(model, test_loader, device)\n"
      ],
      "metadata": {
        "colab": {
          "base_uri": "https://localhost:8080/",
          "height": 373
        },
        "id": "0zFp-LvtVajt",
        "outputId": "4dd5bfd2-6d2a-4ef3-d136-2f784b15101f"
      },
      "execution_count": 81,
      "outputs": [
        {
          "output_type": "display_data",
          "data": {
            "text/plain": [
              "<Figure size 1200x400 with 3 Axes>"
            ],
            "image/png": "[encoded data removed]"
          },
          "metadata": {}
        },
        {
          "output_type": "stream",
          "name": "stdout",
          "text": [
            "Binary Accuracy: 0.0000\n"
          ]
        }
      ]
    }
  ],
  "metadata": {
    "colab": {
      "provenance": [],
      "include_colab_link": true
    },
    "kernelspec": {
      "display_name": "Python 3",
      "name": "python3"
    },
    "language_info": {
      "name": "python"
    }
  },
  "nbformat": 4,
  "nbformat_minor": 0
}